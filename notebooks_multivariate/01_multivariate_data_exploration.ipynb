{
  "cells": [
    {
      "cell_type": "markdown",
      "metadata": {},
      "source": [
        "# 01 - Multivariate Time Series Data Exploration\n",
        "\n",
        "This notebook focuses on:\n",
        "1. Loading and exploring multivariate time series datasets\n",
        "2. Understanding multiple features per time step\n",
        "3. Feature relationships and correlations\n",
        "4. Time series characteristics and patterns\n",
        "5. Data quality assessment and preprocessing\n"
      ]
    },
    {
      "cell_type": "code",
      "execution_count": null,
      "metadata": {},
      "outputs": [],
      "source": [
        "# Import libraries with robust error handling\n",
        "import warnings\n",
        "warnings.filterwarnings('ignore')\n",
        "\n",
        "import pandas as pd\n",
        "import numpy as np\n",
        "import matplotlib.pyplot as plt\n",
        "import seaborn as sns\n",
        "import os\n",
        "from datetime import datetime, timedelta\n",
        "\n",
        "# Set style\n",
        "plt.style.use('seaborn')\n",
        "sns.set_palette(\"husl\")\n",
        "\n",
        "print(\"✅ All imports completed successfully!\")\n"
      ]
    },
    {
      "cell_type": "code",
      "execution_count": null,
      "metadata": {},
      "outputs": [],
      "source": [
        "# Dataset Selection and Loading\n",
        "print(\"=== MULTIVARIATE TIME SERIES DATASET SELECTION ===\")\n",
        "\n",
        "# Available dataset\n",
        "datasets = {\n",
        "    'beijing_air': {\n",
        "        'name': 'Beijing Multi-Site Air-Quality Data',\n",
        "        'file': '../data_multivariate/PRSA_Data_Aotizhongxin_20130301-20170228.csv',\n",
        "        'features': ['PM2.5', 'PM10', 'SO2', 'NO2', 'CO', 'O3', 'TEMP', 'PRES', 'DEWP', 'RAIN', 'WSPM'],\n",
        "        'target': 'PM2.5',\n",
        "        'time_col': 'datetime'\n",
        "    }\n",
        "}\n",
        "\n",
        "print(\"Available dataset:\")\n",
        "for i, (key, dataset) in enumerate(datasets.items(), 1):\n",
        "    print(f\"{i}. {dataset['name']}\")\n",
        "    print(f\"   Features: {len(dataset['features'])} variables\")\n",
        "    print(f\"   Target: {dataset['target']}\")\n",
        "    print(f\"   File: {dataset['file']}\")\n",
        "    print()\n",
        "\n",
        "# Select dataset (Beijing Air Quality)\n",
        "selected_dataset = 'beijing_air'\n",
        "dataset_info = datasets[selected_dataset]\n",
        "\n",
        "print(f\"Selected dataset: {dataset_info['name']}\")\n",
        "print(f\"Target variable: {dataset_info['target']}\")\n",
        "print(f\"Number of features: {len(dataset_info['features'])}\")\n"
      ]
    }
  ],
  "metadata": {
    "language_info": {
      "name": "python"
    }
  },
  "nbformat": 4,
  "nbformat_minor": 2
}
